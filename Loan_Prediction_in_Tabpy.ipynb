{
  "nbformat": 4,
  "nbformat_minor": 0,
  "metadata": {
    "colab": {
      "provenance": [],
      "authorship_tag": "ABX9TyOzHRLbhdP12n7U392COzyT",
      "include_colab_link": true
    },
    "kernelspec": {
      "name": "python3",
      "display_name": "Python 3"
    },
    "language_info": {
      "name": "python"
    }
  },
  "cells": [
    {
      "cell_type": "markdown",
      "metadata": {
        "id": "view-in-github",
        "colab_type": "text"
      },
      "source": [
        "<a href=\"https://colab.research.google.com/github/cmajorros/Real-time-Prediction-Through-Tableau-Dashboard/blob/main/Loan_Prediction_in_Tabpy.ipynb\" target=\"_parent\"><img src=\"https://colab.research.google.com/assets/colab-badge.svg\" alt=\"Open In Colab\"/></a>"
      ]
    },
    {
      "cell_type": "code",
      "execution_count": null,
      "metadata": {
        "id": "wHcNLcSKNwAy"
      },
      "outputs": [],
      "source": [
        "# loan_prediction_tabpy.py\n",
        "\n",
        "from tabpy.tabpy_tools.client import Client\n",
        "import requests\n",
        "import pandas as pd\n",
        "\n",
        "# Local Flask endpoint\n",
        "local_url = 'http://127.0.0.1:5000/predict'\n",
        "\n",
        "def loan_prediction(Age, Income, Loan_Amount, Loan_Term, Credit_History_Length, Number_of_Credit_Cards, Number_of_Loans, Previous_Defaults):\n",
        "    # Sample data for prediction\n",
        "    sample_data = {\n",
        "        'Age': Age,\n",
        "        'Income': Income,\n",
        "        'Loan Amount': Loan_Amount,\n",
        "        'Loan Term': Loan_Term,\n",
        "        'Credit History Length': Credit_History_Length,\n",
        "        'Number of Credit Cards': Number_of_Credit_Cards,\n",
        "        'Number of Loans': Number_of_Loans,\n",
        "        'Previous Defaults': Previous_Defaults\n",
        "    }\n",
        "\n",
        "    try:\n",
        "        # Make POST request to the API\n",
        "        response = requests.post(local_url, json=sample_data)\n",
        "\n",
        "        # Check if the request was successful (status code 200)\n",
        "        if response.status_code == 200:\n",
        "            try:\n",
        "                # Attempt to parse JSON response\n",
        "                prediction_result = response.json()\n",
        "                return prediction_result['prediction']\n",
        "            except ValueError:\n",
        "                return \"Response is not valid JSON.\"\n",
        "        else:\n",
        "            return f\"Request failed with status code {response.status_code}\"\n",
        "\n",
        "    except requests.exceptions.RequestException as e:\n",
        "        return f\"Request error: {e}\"\n",
        "\n",
        "# Register the function with TabPy\n",
        "if __name__ == \"__main__\":\n",
        "    client = Client('http://localhost:9004/')\n",
        "    client.deploy('loan_prediction', loan_prediction, 'Loan prediction using a local Flask API', override=True)\n"
      ]
    }
  ]
}