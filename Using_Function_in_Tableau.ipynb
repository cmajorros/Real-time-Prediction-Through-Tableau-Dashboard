{
  "nbformat": 4,
  "nbformat_minor": 0,
  "metadata": {
    "colab": {
      "provenance": [],
      "authorship_tag": "ABX9TyPftkUrApk3Qo5Nd4INAVMh",
      "include_colab_link": true
    },
    "kernelspec": {
      "name": "python3",
      "display_name": "Python 3"
    },
    "language_info": {
      "name": "python"
    }
  },
  "cells": [
    {
      "cell_type": "markdown",
      "metadata": {
        "id": "view-in-github",
        "colab_type": "text"
      },
      "source": [
        "<a href=\"https://colab.research.google.com/github/cmajorros/Real-time-Prediction-Through-Tableau-Dashboard/blob/main/Using_Function_in_Tableau.ipynb\" target=\"_parent\"><img src=\"https://colab.research.google.com/assets/colab-badge.svg\" alt=\"Open In Colab\"/></a>"
      ]
    },
    {
      "cell_type": "markdown",
      "source": [
        "**Connect Tableau to TabPy:**\n",
        "\n",
        "Go to Help > Settings and Performance > Manage External Service Connection.\n",
        "Select TabPy/External API and enter the server URL (http://localhost:9004).\n",
        "\n",
        "\n",
        "#####**Create a Calculated Field in Tableau:**\n",
        "\n",
        "Create a new calculated field in Tableau and use the following script to call the TabPy function:"
      ],
      "metadata": {
        "id": "ODGMBx_1OdHQ"
      }
    },
    {
      "cell_type": "code",
      "execution_count": null,
      "metadata": {
        "id": "pszP4dPNOcBl"
      },
      "outputs": [],
      "source": [
        "SCRIPT_REAL(\"\n",
        "return tabpy.query('loan_prediction', _arg1, _arg2, _arg3, _arg4, _arg5, _arg6, _arg7, _arg8)['response']\n",
        "\",\n",
        "[Age], [Income], [Loan Amount], [Loan Term], [Credit History Length], [Number of Credit Cards], [Number of Loans], [Previous Defaults])\n"
      ]
    }
  ]
}