{
  "nbformat": 4,
  "nbformat_minor": 0,
  "metadata": {
    "colab": {
      "provenance": [],
      "authorship_tag": "ABX9TyOcCYP5oBD7d/k1ENcHO7e+",
      "include_colab_link": true
    },
    "kernelspec": {
      "name": "python3",
      "display_name": "Python 3"
    },
    "language_info": {
      "name": "python"
    }
  },
  "cells": [
    {
      "cell_type": "markdown",
      "metadata": {
        "id": "view-in-github",
        "colab_type": "text"
      },
      "source": [
        "<a href=\"https://colab.research.google.com/github/cmajorros/Real-time-Prediction-Through-Tableau-Dashboard/blob/main/Predict.ipynb\" target=\"_parent\"><img src=\"https://colab.research.google.com/assets/colab-badge.svg\" alt=\"Open In Colab\"/></a>"
      ]
    },
    {
      "cell_type": "code",
      "source": [
        "import requests\n",
        "\n",
        "# Local Flask endpoint\n",
        "local_url = 'http://127.0.0.1:5000/predict'\n",
        "\n",
        "# Sample data for prediction\n",
        "sample_data = {\n",
        "    'Age': 35,\n",
        "    'Income': 60000,\n",
        "    'Loan Amount': 20000,\n",
        "    'Loan Term': 48,\n",
        "    'Credit History Length': 10,\n",
        "    'Number of Credit Cards': 3,\n",
        "    'Number of Loans': 1,\n",
        "    'Previous Defaults': 0\n",
        "}\n",
        "\n",
        "try:\n",
        "    # Make POST request to the API\n",
        "    response = requests.post(local_url, json=sample_data)\n",
        "\n",
        "    # Check if the request was successful (status code 200)\n",
        "    if response.status_code == 200:\n",
        "        try:\n",
        "            # Attempt to parse JSON response\n",
        "            prediction_result = response.json()\n",
        "            print(\"Prediction Result:\")\n",
        "            print(prediction_result)\n",
        "        except ValueError:\n",
        "            print(\"Response is not valid JSON.\")\n",
        "    else:\n",
        "        print(f\"Request failed with status code {response.status_code}\")\n",
        "\n",
        "except requests.exceptions.RequestException as e:\n",
        "    print(f\"Request error: {e}\")\n"
      ],
      "metadata": {
        "colab": {
          "base_uri": "https://localhost:8080/"
        },
        "id": "9GHFEPaCEGw2",
        "outputId": "876a230b-76fd-405f-e600-89cf184ea94c"
      },
      "execution_count": 6,
      "outputs": [
        {
          "output_type": "stream",
          "name": "stdout",
          "text": [
            "Request error: HTTPConnectionPool(host='127.0.0.1', port=5000): Max retries exceeded with url: /predict (Caused by NewConnectionError('<urllib3.connection.HTTPConnection object at 0x7826d63fd6f0>: Failed to establish a new connection: [Errno 111] Connection refused'))\n"
          ]
        }
      ]
    }
  ]
}